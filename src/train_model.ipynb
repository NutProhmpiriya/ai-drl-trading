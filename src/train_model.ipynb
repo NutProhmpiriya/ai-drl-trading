{
 "cells": [
  {
   "cell_type": "code",
   "execution_count": 4,
   "metadata": {},
   "outputs": [
    {
     "name": "stdout",
     "output_type": "stream",
     "text": [
      "31226\n",
      "68782\n"
     ]
    }
   ],
   "source": [
    "import pandas as pd\n",
    "csv_file_path_2023 = './data/raw/USDJPY_M5_2023_demo.csv'\n",
    "csv_file_path_2024 = './data/raw/USDJPY_M5_2024_demo.csv'\n",
    "\n",
    "pd.set_option('display.max_columns', 20) # number of columns to be displayed\n",
    "pd.set_option('display.width', 1500)\n",
    "USDJPY_M5_2023 = pd.read_csv(csv_file_path_2023, header=0, index_col=0, parse_dates=True)\n",
    "print(len(USDJPY_M5_2023))\n",
    "USDJPY_M5_2024 = pd.read_csv(csv_file_path_2024, header=0, index_col=0, parse_dates=True)\n",
    "print(len(USDJPY_M5_2024))\n"
   ]
  },
  {
   "cell_type": "code",
   "execution_count": 5,
   "metadata": {},
   "outputs": [],
   "source": [
    "from environment.forex_trading_env import ForexTradingEnv"
   ]
  },
  {
   "cell_type": "code",
   "execution_count": null,
   "metadata": {},
   "outputs": [],
   "source": []
  }
 ],
 "metadata": {
  "kernelspec": {
   "display_name": "3.10.11",
   "language": "python",
   "name": "python3"
  },
  "language_info": {
   "codemirror_mode": {
    "name": "ipython",
    "version": 3
   },
   "file_extension": ".py",
   "mimetype": "text/x-python",
   "name": "python",
   "nbconvert_exporter": "python",
   "pygments_lexer": "ipython3",
   "version": "3.10.11"
  }
 },
 "nbformat": 4,
 "nbformat_minor": 2
}
