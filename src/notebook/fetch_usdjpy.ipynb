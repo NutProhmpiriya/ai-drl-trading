{
 "cells": [
  {
   "cell_type": "code",
   "execution_count": 4,
   "metadata": {},
   "outputs": [
    {
     "name": "stdout",
     "output_type": "stream",
     "text": [
      "numpy==1.26.4\n",
      "Note: you may need to restart the kernel to use updated packages.\n"
     ]
    }
   ],
   "source": [
    "%pip freeze | findstr numpy"
   ]
  },
  {
   "cell_type": "code",
   "execution_count": 5,
   "metadata": {},
   "outputs": [],
   "source": [
    "import MetaTrader5 as mt5\n",
    "import pandas as pd \n",
    "from datetime import datetime\n"
   ]
  },
  {
   "cell_type": "code",
   "execution_count": 41,
   "metadata": {},
   "outputs": [
    {
     "name": "stdout",
     "output_type": "stream",
     "text": [
      "initialize() success\n",
      "                 time     open     high      low    close  tick_volume  spread  real_volume\n",
      "0 2023-07-31 13:45:00  142.443  142.448  142.330  142.330          209      20            0\n",
      "1 2023-07-31 13:50:00  142.330  142.344  142.279  142.294          306      18            0\n",
      "2 2023-07-31 13:55:00  142.291  142.309  142.238  142.239          401      19            0\n",
      "3 2023-07-31 14:00:00  142.239  142.264  142.183  142.242          542      17            0\n",
      "4 2023-07-31 14:05:00  142.242  142.281  142.234  142.264          581      18            0\n"
     ]
    }
   ],
   "source": [
    "import pytz\n",
    "from datetime import datetime\n",
    "\n",
    "pd.set_option('display.max_columns', 20) # number of columns to be displayed\n",
    "pd.set_option('display.width', 1500)      # max table width to display\n",
    "timezone = pytz.timezone(\"Etc/UTC\")\n",
    "symbol = \"USDJPY\"\n",
    "timeframe = mt5.TIMEFRAME_M5\n",
    "\n",
    "if not mt5.initialize():\n",
    "    print(\"initialize() failed\", mt5.last_error())\n",
    "    mt5.shutdown()\n",
    "else:\n",
    "    print(\"initialize() success\")\n",
    "\n",
    "date_from = datetime(2023, 1, 1, tzinfo=timezone)\n",
    "date_to = datetime(2023, 12, 31, tzinfo=timezone)\n",
    "rates = mt5.copy_rates_range(symbol, timeframe,  date_from, date_to)\n",
    "\n",
    "if rates is not None:\n",
    "    df = pd.DataFrame(rates)\n",
    "    df['time'] = pd.to_datetime(df['time'], unit='s')\n",
    "    df.to_csv('../data/raw/USDJPY_M5_2023.csv', index=False)\n",
    "    print(df.head())\n",
    "else:\n",
    "    print(\"Failed to get data\")\n",
    "\n",
    "# mt5.shutdown()\n"
   ]
  },
  {
   "cell_type": "code",
   "execution_count": 42,
   "metadata": {},
   "outputs": [
    {
     "name": "stdout",
     "output_type": "stream",
     "text": [
      "initialize() success\n",
      "[(1704153600, 140.826, 140.827, 140.809, 140.818,  11, 97, 0)\n",
      " (1704153900, 140.823, 140.85 , 140.823, 140.839,   6, 51, 0)\n",
      " (1704154200, 140.853, 140.862, 140.835, 140.846,  26, 47, 0) ...\n",
      " (1732910100, 149.668, 149.751, 149.57 , 149.585, 766, 20, 0)\n",
      " (1732910400, 149.589, 149.677, 149.529, 149.554, 837, 20, 0)\n",
      " (1732910700, 149.555, 149.555, 149.529, 149.529,  74, 21, 0)]\n",
      "                 time     open     high      low    close  tick_volume  spread  real_volume\n",
      "0 2024-01-02 00:00:00  140.826  140.827  140.809  140.818           11      97            0\n",
      "1 2024-01-02 00:05:00  140.823  140.850  140.823  140.839            6      51            0\n",
      "2 2024-01-02 00:10:00  140.853  140.862  140.835  140.846           26      47            0\n",
      "3 2024-01-02 00:15:00  140.847  140.858  140.835  140.847           19      51            0\n",
      "4 2024-01-02 00:20:00  140.846  140.866  140.843  140.865           53      41            0\n"
     ]
    }
   ],
   "source": [
    "if not mt5.initialize():\n",
    "    print(\"initialize() failed\", mt5.last_error())\n",
    "    mt5.shutdown()\n",
    "else:\n",
    "    print(\"initialize() success\")\n",
    "\n",
    "date_from = datetime(2024, 1, 1, tzinfo=timezone)\n",
    "date_to = datetime(2024, 11, 30, tzinfo=timezone)\n",
    "rates = mt5.copy_rates_range(symbol, timeframe,  date_from, date_to)\n",
    "print(rates)\n",
    "\n",
    "if rates is not None:\n",
    "    df = pd.DataFrame(rates)\n",
    "    df['time'] = pd.to_datetime(df['time'], unit='s')\n",
    "    df.to_csv('../data/raw/USDJPY_M5_2024.csv', index=False)\n",
    "    print(df.head())\n",
    "else:\n",
    "    print(\"Failed to get data\")\n"
   ]
  }
 ],
 "metadata": {
  "kernelspec": {
   "display_name": "3.10.11",
   "language": "python",
   "name": "python3"
  },
  "language_info": {
   "codemirror_mode": {
    "name": "ipython",
    "version": 3
   },
   "file_extension": ".py",
   "mimetype": "text/x-python",
   "name": "python",
   "nbconvert_exporter": "python",
   "pygments_lexer": "ipython3",
   "version": "3.10.11"
  }
 },
 "nbformat": 4,
 "nbformat_minor": 2
}
