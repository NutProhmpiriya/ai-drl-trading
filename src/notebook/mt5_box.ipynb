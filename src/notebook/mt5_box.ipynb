{
 "cells": [
  {
   "cell_type": "code",
   "execution_count": 2,
   "metadata": {},
   "outputs": [],
   "source": [
    "import pandas as pd\n",
    "import MetaTrader5 as mt5\n",
    "import matplotlib.pyplot as plt\n",
    "import json"
   ]
  },
  {
   "cell_type": "code",
   "execution_count": 3,
   "metadata": {},
   "outputs": [
    {
     "name": "stdout",
     "output_type": "stream",
     "text": [
      "MetaTrader5 version: (500, 4620, '11 Oct 2024')\n",
      "                 property                                              value\n",
      "0       community_account                                              False\n",
      "1    community_connection                                              False\n",
      "2               connected                                               True\n",
      "3            dlls_allowed                                              False\n",
      "4           trade_allowed                                               True\n",
      "5       tradeapi_disabled                                              False\n",
      "6           email_enabled                                              False\n",
      "7             ftp_enabled                                              False\n",
      "8   notifications_enabled                                              False\n",
      "9                    mqid                                               True\n",
      "10                  build                                               4620\n",
      "11                maxbars                                             100000\n",
      "12               codepage                                                  0\n",
      "13              ping_last                                             198214\n",
      "14      community_balance                                                0.0\n",
      "15         retransmission                                           6.609669\n",
      "16                company                          MetaQuotes Software Corp.\n",
      "17                   name                                       MetaTrader 5\n",
      "18               language                                            English\n",
      "19                   path                      C:\\Program Files\\MetaTrader 5\n",
      "20              data_path  C:\\Users\\windowBook\\AppData\\Roaming\\MetaQuotes...\n",
      "21        commondata_path  C:\\Users\\windowBook\\AppData\\Roaming\\MetaQuotes...\n"
     ]
    }
   ],
   "source": [
    "if not mt5.initialize():\n",
    "    print(\"initialize() failed\")\n",
    "    mt5.shutdown()\n",
    "\n",
    "tierminal_info = mt5.terminal_info()._asdict()\n",
    "version= mt5.version()\n",
    "print(\"MetaTrader5 version:\", version)\n",
    "df=pd.DataFrame(list(tierminal_info.items()),columns=['property','value'])\n",
    "print(df)\n"
   ]
  },
  {
   "cell_type": "code",
   "execution_count": 4,
   "metadata": {},
   "outputs": [
    {
     "name": "stdout",
     "output_type": "stream",
     "text": [
      "              property              value\n",
      "0                login          312241304\n",
      "1           trade_mode                  0\n",
      "2             leverage               1000\n",
      "3         limit_orders                300\n",
      "4       margin_so_mode                  0\n",
      "5        trade_allowed               True\n",
      "6         trade_expert               True\n",
      "7          margin_mode                  2\n",
      "8      currency_digits                  2\n",
      "9           fifo_close              False\n",
      "10             balance           10022.72\n",
      "11              credit                0.0\n",
      "12              profit                0.0\n",
      "13              equity           10022.72\n",
      "14              margin                0.0\n",
      "15         margin_free           10022.72\n",
      "16        margin_level                0.0\n",
      "17      margin_so_call               50.0\n",
      "18        margin_so_so               20.0\n",
      "19      margin_initial                0.0\n",
      "20  margin_maintenance                0.0\n",
      "21              assets                0.0\n",
      "22         liabilities                0.0\n",
      "23  commission_blocked                0.0\n",
      "24                name       Demo Account\n",
      "25              server     XMGlobal-MT5 7\n",
      "26            currency                USD\n",
      "27             company  XM Global Limited\n"
     ]
    }
   ],
   "source": [
    "account_info = mt5.account_info()._asdict()\n",
    "df_account_info = pd.DataFrame(list(account_info.items()), columns=['property', 'value'])\n",
    "print(df_account_info)"
   ]
  },
  {
   "cell_type": "code",
   "execution_count": 5,
   "metadata": {},
   "outputs": [
    {
     "name": "stdout",
     "output_type": "stream",
     "text": [
      "Total symbols: 1505\n"
     ]
    }
   ],
   "source": [
    "symbols=mt5.symbols_total()\n",
    "print(\"Total symbols:\",symbols)"
   ]
  },
  {
   "cell_type": "code",
   "execution_count": 6,
   "metadata": {},
   "outputs": [
    {
     "name": "stdout",
     "output_type": "stream",
     "text": [
      "1. EURUSD\n",
      "2. GBPUSD\n",
      "3. USDCHF\n",
      "4. USDJPY\n",
      "5. USDCAD\n",
      "\n"
     ]
    }
   ],
   "source": [
    "symbols=mt5.symbols_get()\n",
    "\n",
    "count=0\n",
    "for s in symbols:\n",
    "    count+=1\n",
    "    print(\"{}. {}\".format(count,s.name))\n",
    "    if count==5: break\n",
    "print()"
   ]
  },
  {
   "cell_type": "code",
   "execution_count": 7,
   "metadata": {},
   "outputs": [
    {
     "name": "stdout",
     "output_type": "stream",
     "text": [
      "len(*RU*):  2\n",
      "EURUSD\n",
      "NEARUSD\n",
      "\n"
     ]
    }
   ],
   "source": [
    "# get symbols containing RU in their names\n",
    "ru_symbols=mt5.symbols_get(\"*RU*\")\n",
    "print('len(*RU*): ', len(ru_symbols))\n",
    "for s in ru_symbols:\n",
    "    print(s.name)\n",
    "print()\n",
    " "
   ]
  },
  {
   "cell_type": "code",
   "execution_count": 8,
   "metadata": {},
   "outputs": [
    {
     "name": "stdout",
     "output_type": "stream",
     "text": [
      "len(*,!*USD*,!*EUR*,!*JPY*,!*GBP*): 1396\n"
     ]
    }
   ],
   "source": [
    "# get symbols whose names do not contain USD, EUR, JPY and GBP\n",
    "group_symbols=mt5.symbols_get(group=\"*,!*USD*,!*EUR*,!*JPY*,!*GBP*\")\n",
    "print('len(*,!*USD*,!*EUR*,!*JPY*,!*GBP*):', len(group_symbols))\n",
    "# for s in group_symbols:\n",
    "#     print(s.name,\":\",s)"
   ]
  },
  {
   "cell_type": "code",
   "execution_count": 9,
   "metadata": {},
   "outputs": [
    {
     "name": "stdout",
     "output_type": "stream",
     "text": [
      "         property                         value\n",
      "0          custom                         False\n",
      "1      chart_mode                             0\n",
      "2          select                         False\n",
      "3         visible                         False\n",
      "4   session_deals                             0\n",
      "..            ...                           ...\n",
      "91        formula                              \n",
      "92           isin                              \n",
      "93           name                        EURJPY\n",
      "94           page                              \n",
      "95           path  Forex\\Standard\\Majors\\EURJPY\n",
      "\n",
      "[96 rows x 2 columns]\n"
     ]
    }
   ],
   "source": [
    "symbol_info=mt5.symbol_info(\"EURJPY\")\n",
    "if symbol_info!=None:\n",
    "    # display the terminal data 'as is'    \n",
    "    df=pd.DataFrame(list(symbol_info._asdict().items()),columns=['property','value'])\n",
    "    print(df)"
   ]
  },
  {
   "cell_type": "code",
   "execution_count": 10,
   "metadata": {},
   "outputs": [
    {
     "name": "stdout",
     "output_type": "stream",
     "text": [
      "GBPUSD selected= True\n"
     ]
    }
   ],
   "source": [
    "selected=mt5.symbol_select(\"GBPUSD\",True)\n",
    "print(\"GBPUSD selected=\",selected)"
   ]
  },
  {
   "cell_type": "code",
   "execution_count": 11,
   "metadata": {},
   "outputs": [
    {
     "name": "stdout",
     "output_type": "stream",
     "text": [
      "                 time      bid      ask  last  volume       time_msc  flags  \\\n",
      "0 2024-11-26 14:53:12  1.26081  1.26105   0.0       0  1732632792360   1122   \n",
      "\n",
      "   volume_real  \n",
      "0          0.0  \n"
     ]
    }
   ],
   "source": [
    "lasttick=mt5.symbol_info_tick(\"GBPUSD\")\n",
    "df=pd.DataFrame(lasttick._asdict(),index=[0])\n",
    "df['time']=pd.to_datetime(df['time'],unit='s')\n",
    "print(df)\n"
   ]
  },
  {
   "cell_type": "code",
   "execution_count": 12,
   "metadata": {},
   "outputs": [
    {
     "name": "stdout",
     "output_type": "stream",
     "text": [
      "(1578484800, 1.11377, 1.11378, 1.11104, 1.11192, 6699, 16, 0)\n",
      "(1578499200, 1.11192, 1.11301, 1.11081, 1.11172, 7627, 16, 0)\n",
      "(1578513600, 1.1117, 1.1117, 1.11009, 1.11042, 3412, 16, 0)\n",
      "(1578528000, 1.11043, 1.11186, 1.11022, 1.11166, 2511, 16, 0)\n",
      "(1578542400, 1.11166, 1.11182, 1.11119, 1.11175, 1770, 16, 0)\n",
      "(1578556800, 1.11174, 1.11196, 1.10976, 1.10986, 5889, 16, 0)\n",
      "(1578571200, 1.10986, 1.11166, 1.10958, 1.11142, 5392, 16, 0)\n",
      "(1578585600, 1.1114, 1.1114, 1.10918, 1.11039, 5525, 16, 0)\n",
      "(1578600000, 1.11039, 1.1109, 1.11026, 1.11037, 2657, 16, 0)\n",
      "(1578614400, 1.11035, 1.11085, 1.10993, 1.11034, 1787, 16, 0)\n"
     ]
    }
   ],
   "source": [
    "import pytz\n",
    "from datetime import datetime\n",
    "\n",
    "pd.set_option('display.max_columns', 20) # number of columns to be displayed\n",
    "pd.set_option('display.width', 1500)      # max table width to display\n",
    "\n",
    "timezone = pytz.timezone(\"Etc/UTC\")\n",
    "utc_from = datetime(2020, 1, 10, tzinfo=timezone)\n",
    "rates = mt5.copy_rates_from(\"EURUSD\", mt5.TIMEFRAME_H4, utc_from, 10)\n",
    "\n",
    "for rate in rates:\n",
    "    print(rate)"
   ]
  },
  {
   "cell_type": "code",
   "execution_count": 13,
   "metadata": {},
   "outputs": [
    {
     "name": "stdout",
     "output_type": "stream",
     "text": [
      "                 time     open     high      low    close  tick_volume  spread  real_volume\n",
      "0 2020-01-08 12:00:00  1.11377  1.11378  1.11104  1.11192         6699      16            0\n",
      "1 2020-01-08 16:00:00  1.11192  1.11301  1.11081  1.11172         7627      16            0\n",
      "2 2020-01-08 20:00:00  1.11170  1.11170  1.11009  1.11042         3412      16            0\n",
      "3 2020-01-09 00:00:00  1.11043  1.11186  1.11022  1.11166         2511      16            0\n",
      "4 2020-01-09 04:00:00  1.11166  1.11182  1.11119  1.11175         1770      16            0\n",
      "5 2020-01-09 08:00:00  1.11174  1.11196  1.10976  1.10986         5889      16            0\n",
      "6 2020-01-09 12:00:00  1.10986  1.11166  1.10958  1.11142         5392      16            0\n",
      "7 2020-01-09 16:00:00  1.11140  1.11140  1.10918  1.11039         5525      16            0\n",
      "8 2020-01-09 20:00:00  1.11039  1.11090  1.11026  1.11037         2657      16            0\n",
      "9 2020-01-10 00:00:00  1.11035  1.11085  1.10993  1.11034         1787      16            0\n"
     ]
    }
   ],
   "source": [
    "rates_frame = pd.DataFrame(rates)\n",
    "rates_frame['time']=pd.to_datetime(rates_frame['time'], unit='s')\n",
    "print(rates_frame)"
   ]
  },
  {
   "cell_type": "markdown",
   "metadata": {},
   "source": [
    "ต่อไปนี้คือลักษณะความแตกต่างระหว่างฟังก์ชันเหล่านี้:\n",
    "\n",
    "### 1. **`copy_rates_from`**\n",
    "   - **วัตถุประสงค์**: ฟังก์ชันนี้ใช้ดึงข้อมูลราคาของสัญลักษณ์ที่ระบุ โดยใช้เวลาที่ระบุ (ในกรณีนี้เริ่มต้นจากเวลา `from_time`) และจำนวนแท่งข้อมูล (bars) ที่ต้องการ\n",
    "   - **การใช้งาน**: ฟังก์ชันนี้จะดึงข้อมูล **price bars** (หรือ OHLC - Open, High, Low, Close) จากช่วงเวลาที่ระบุ\n",
    "   - **ตัวอย่างการใช้งาน**:\n",
    "     ```python\n",
    "     rates = mt5.copy_rates_from(symbol, mt5.TIMEFRAME_M1, from_time, 100)\n",
    "     ```\n",
    "   - **พารามิเตอร์**:\n",
    "     - `symbol`: สัญลักษณ์ (เช่น EURUSD)\n",
    "     - `timeframe`: ช่วงเวลา (เช่น M1, H1)\n",
    "     - `from_time`: เวลาที่เริ่มต้น\n",
    "     - `count`: จำนวนข้อมูลที่ต้องการดึง\n",
    "\n",
    "### 2. **`copy_rates_from_pos`**\n",
    "   - **วัตถุประสงค์**: ฟังก์ชันนี้คล้ายกับ `copy_rates_from` แต่จะแตกต่างที่ **จุดเริ่มต้นเป็นตำแหน่ง (position)** แทนการใช้เวลา\n",
    "   - **การใช้งาน**: ใช้เมื่อคุณต้องการดึงข้อมูลจากตำแหน่งเริ่มต้นใน **history** แทนที่จะใช้เวลา\n",
    "   - **ตัวอย่างการใช้งาน**:\n",
    "     ```python\n",
    "     rates = mt5.copy_rates_from_pos(symbol, mt5.TIMEFRAME_M1, position, 100)\n",
    "     ```\n",
    "   - **พารามิเตอร์**:\n",
    "     - `symbol`: สัญลักษณ์\n",
    "     - `timeframe`: ช่วงเวลา\n",
    "     - `position`: ตำแหน่งเริ่มต้น (เช่น 0 คือข้อมูลล่าสุด)\n",
    "     - `count`: จำนวนแท่งข้อมูล\n",
    "\n",
    "### 3. **`copy_rates_range`**\n",
    "   - **วัตถุประสงค์**: ฟังก์ชันนี้ใช้ดึงข้อมูล **ราคา** ในช่วงเวลาที่กำหนด\n",
    "   - **การใช้งาน**: ใช้เมื่อคุณต้องการดึงข้อมูล **price bars** ตั้งแต่ช่วงเวลาหนึ่งไปจนถึงช่วงเวลาหนึ่ง\n",
    "   - **ตัวอย่างการใช้งาน**:\n",
    "     ```python\n",
    "     rates = mt5.copy_rates_range(symbol, mt5.TIMEFRAME_M1, start_time, end_time)\n",
    "     ```\n",
    "   - **พารามิเตอร์**:\n",
    "     - `symbol`: สัญลักษณ์\n",
    "     - `timeframe`: ช่วงเวลา\n",
    "     - `start_time`: เวลาที่เริ่มต้น\n",
    "     - `end_time`: เวลาที่สิ้นสุด\n",
    "\n",
    "### 4. **`copy_ticks_from`**\n",
    "   - **วัตถุประสงค์**: ฟังก์ชันนี้ใช้ดึงข้อมูล **ticks** (ราคาที่เปลี่ยนแปลง) เริ่มจากเวลาที่กำหนด\n",
    "   - **การใช้งาน**: ใช้ในการดึงข้อมูลราคาที่เปลี่ยนแปลงในลักษณะ **tick** (ไม่ใช่ข้อมูลแบบ bar) ที่มีข้อมูลการเปลี่ยนแปลงราคาในช่วงเวลาหนึ่ง\n",
    "   - **ตัวอย่างการใช้งาน**:\n",
    "     ```python\n",
    "     ticks = mt5.copy_ticks_from(symbol, from_time, 100)\n",
    "     ```\n",
    "   - **พารามิเตอร์**:\n",
    "     - `symbol`: สัญลักษณ์\n",
    "     - `from_time`: เวลาที่เริ่มต้น\n",
    "     - `count`: จำนวนข้อมูลที่ต้องการดึง\n",
    "\n",
    "### 5. **`copy_ticks_range`**\n",
    "   - **วัตถุประสงค์**: ฟังก์ชันนี้ใช้ดึงข้อมูล **ticks** ในช่วงเวลาที่กำหนด\n",
    "   - **การใช้งาน**: ใช้เมื่อคุณต้องการดึงข้อมูล **tick** ในช่วงเวลาที่กำหนดระหว่าง `start_time` ถึง `end_time`\n",
    "   - **ตัวอย่างการใช้งาน**:\n",
    "     ```python\n",
    "     ticks = mt5.copy_ticks_range(symbol, start_time, end_time, mt5.COPY_TICKS_ALL)\n",
    "     ```\n",
    "   - **พารามิเตอร์**:\n",
    "     - `symbol`: สัญลักษณ์\n",
    "     - `start_time`: เวลาที่เริ่มต้น\n",
    "     - `end_time`: เวลาที่สิ้นสุด\n",
    "     - `ticks`: สามารถเลือกประเภทของ ticks ที่ต้องการดึง เช่น **`COPY_TICKS_ALL`** หรือ **`COPY_TICKS_INFO`**\n",
    "\n",
    "---\n",
    "\n",
    "### สรุปความแตกต่าง:\n",
    "\n",
    "- **`copy_rates_from`**: ดึงข้อมูลจากเวลาเริ่มต้นและจำนวนแท่งข้อมูลที่ต้องการ\n",
    "- **`copy_rates_from_pos`**: ดึงข้อมูลจากตำแหน่งเริ่มต้นของข้อมูลที่มี\n",
    "- **`copy_rates_range`**: ดึงข้อมูลจากช่วงเวลาที่กำหนด\n",
    "- **`copy_ticks_from`**: ดึงข้อมูล **tick** จากเวลาเริ่มต้น\n",
    "- **`copy_ticks_range`**: ดึงข้อมูล **tick** จากช่วงเวลาที่กำหนด\n",
    "\n",
    "การเลือกใช้ฟังก์ชันที่เหมาะสมขึ้นอยู่กับประเภทข้อมูลที่คุณต้องการ (ราคาแบบ bar หรือ tick) และว่าคุณต้องการดึงข้อมูลจากเวลา, ตำแหน่ง, หรือช่วงเวลาใด\n",
    "\n",
    "หวังว่าคำอธิบายนี้จะช่วยให้คุณเข้าใจความแตกต่างของฟังก์ชันเหล่านี้ครับ! หากยังมีคำถามเพิ่มเติม สามารถถามได้ครับ!"
   ]
  },
  {
   "cell_type": "code",
   "execution_count": 14,
   "metadata": {},
   "outputs": [
    {
     "name": "stdout",
     "output_type": "stream",
     "text": [
      "Total orders: 0\n"
     ]
    }
   ],
   "source": [
    "orders=mt5.orders_total()\n",
    "print(\"Total orders:\",orders)"
   ]
  },
  {
   "cell_type": "markdown",
   "metadata": {},
   "source": [
    "โครงสร้างของคำขอการเทรดใน MQL (MetaTrader Language) ที่ใช้ในการจัดการคำสั่งการเทรดในแพลตฟอร์ม MetaTrader ซึ่งแต่ละฟิลด์ในตารางนี้มีความหมายดังนี้:\n",
    "\n",
    "1. **action**: ประเภทของการดำเนินการเทรด ค่าในฟิลด์นี้ต้องเป็นหนึ่งในค่าของ `TRADE_REQUEST_ACTIONS` ที่กำหนด\n",
    "2. **magic**: รหัส ID ของ EA (Expert Advisor) ที่ใช้ในการจัดการคำสั่งเทรด ช่วยในการจัดการและติดตามคำสั่งที่ส่งไป\n",
    "3. **order**: หมายเลขคำสั่ง (order ticket) ใช้ในการแก้ไขคำสั่งที่รอดำเนินการ\n",
    "4. **symbol**: ชื่อของเครื่องมือการเทรด (เช่น คู่เงิน) ที่คำสั่งนั้นถูกวางไว้ ฟิลด์นี้ไม่จำเป็นเมื่อแก้ไขคำสั่งหรือปิดตำแหน่ง\n",
    "5. **volume**: ปริมาณของการเทรดในล็อต ขึ้นอยู่กับประเภทของการดำเนินการคำสั่ง\n",
    "6. **price**: ราคาที่คำสั่งจะถูกดำเนินการ การตั้งราคาไม่จำเป็นสำหรับคำสั่งประเภทตลาด (market orders)\n",
    "7. **stoplimit**: ราคาของคำสั่ง Pending Limit ที่จะตั้งเมื่อราคาถึงจุดที่กำหนด\n",
    "8. **sl (Stop Loss)**: ราคาที่คำสั่ง Stop Loss จะถูกเปิดเมื่อราคาขยับไปในทิศทางที่ไม่ดี\n",
    "9. **tp (Take Profit)**: ราคาที่คำสั่ง Take Profit จะถูกเปิดเมื่อราคาขยับไปในทิศทางที่ดี\n",
    "10. **deviation**: ค่าสูงสุดที่ยอมรับได้จากราคาที่ขอ โดยวัดเป็นจุด (points)\n",
    "11. **type**: ประเภทของคำสั่ง ค่าของฟิลด์นี้ต้องเป็นหนึ่งในค่าของ `ORDER_TYPE`\n",
    "12. **type_filling**: ประเภทการเติมคำสั่ง ค่าของฟิลด์นี้ต้องเป็นหนึ่งในค่าของ `ORDER_TYPE_FILLING`\n",
    "13. **type_time**: ประเภทของการหมดอายุคำสั่ง ค่าของฟิลด์นี้ต้องเป็นหนึ่งในค่าของ `ORDER_TYPE_TIME`\n",
    "14. **expiration**: เวลาหมดอายุของคำสั่ง Pending ซึ่งใช้กับคำสั่งที่มีประเภท `TIME_SPECIFIED`\n",
    "15. **comment**: ข้อความเพิ่มเติมที่สามารถใส่ได้ในคำสั่ง\n",
    "16. **position**: หมายเลขของตำแหน่ง (Position ticket) ใช้ในการเปลี่ยนแปลงหรือปิดตำแหน่ง\n",
    "17. **position_by**: ใช้ในการปิดตำแหน่งโดยการเปิดคำสั่งในทิศทางตรงข้ามกับตำแหน่งที่มีอยู่\n",
    "\n",
    "การใช้งาน MQL แบบนี้จะช่วยในการจัดการคำสั่งการเทรดอย่างละเอียดและแม่นยำใน MetaTrader"
   ]
  },
  {
   "cell_type": "code",
   "execution_count": 31,
   "metadata": {},
   "outputs": [
    {
     "name": "stdout",
     "output_type": "stream",
     "text": [
      "1. order_send(): by USDJPY 0.1 lots at 153.204 with deviation=20 points\n",
      "2. order_send done,  OrderSendResult(retcode=10009, deal=274335307, order=273807474, volume=0.1, price=153.204, bid=153.177, ask=153.204, comment='Request executed', request_id=1287851498, retcode_external=0, request=TradeRequest(action=1, magic=234000, order=0, symbol='USDJPY', volume=0.1, price=153.204, stoplimit=0.0, sl=0.0, tp=0.0, deviation=20, type=0, type_filling=1, type_time=0, expiration=0, comment='python script open', position=0, position_by=0))\n",
      "   opened position with POSITION_TICKET=273807474\n",
      "   sleep 2 seconds before closing position #273807474\n"
     ]
    }
   ],
   "source": [
    "# send order \n",
    "symbol = \"USDJPY\"\n",
    "price = mt5.symbol_info_tick(symbol).ask\n",
    "lot = 0.1\n",
    "point = mt5.symbol_info(symbol).point\n",
    "deviation = 20\n",
    "request = {\n",
    "    \"action\": mt5.TRADE_ACTION_DEAL,\n",
    "    \"symbol\": symbol,\n",
    "    \"volume\": lot,\n",
    "    \"type\": mt5.ORDER_TYPE_BUY,\n",
    "    \"price\": price,\n",
    "    # \"sl\": price - 100 * point,\n",
    "    # \"tp\": price + 100 * point,\n",
    "    \"deviation\": deviation,\n",
    "    \"magic\": 234000,\n",
    "    \"comment\": \"python script open\",\n",
    "    \"type_time\": mt5.ORDER_TIME_GTC,\n",
    "    \"type_filling\": mt5.ORDER_FILLING_IOC,\n",
    "}\n",
    "\n",
    "# send a trading request\n",
    "result = mt5.order_send(request)\n",
    "# check the execution result\n",
    "print(\"1. order_send(): by {} {} lots at {} with deviation={} points\".format(symbol,lot,price,deviation));\n",
    "if result.retcode != mt5.TRADE_RETCODE_DONE:\n",
    "    print(\"2. order_send failed, retcode={}\".format(result.retcode))\n",
    "    # request the result as a dictionary and display it element by element\n",
    "    result_dict=result._asdict()\n",
    "    for field in result_dict.keys():\n",
    "        print(\"   {}={}\".format(field,result_dict[field]))\n",
    "        # if this is a trading request structure, display it element by element as well\n",
    "        if field==\"request\":\n",
    "            traderequest_dict=result_dict[field]._asdict()\n",
    "            for tradereq_filed in traderequest_dict:\n",
    "                print(\"       traderequest: {}={}\".format(tradereq_filed,traderequest_dict[tradereq_filed]))\n",
    "    print(\"shutdown() and quit\")\n",
    "    mt5.shutdown()\n",
    "    quit()\n",
    " \n",
    "print(\"2. order_send done, \", result)\n",
    "print(\"   opened position with POSITION_TICKET={}\".format(result.order))\n",
    "print(\"   sleep 2 seconds before closing position #{}\".format(result.order))"
   ]
  },
  {
   "cell_type": "code",
   "execution_count": 23,
   "metadata": {},
   "outputs": [
    {
     "name": "stdout",
     "output_type": "stream",
     "text": [
      "Total orders: 0\n"
     ]
    }
   ],
   "source": [
    "orders=mt5.orders_total()\n",
    "print(\"Total orders:\",orders)"
   ]
  },
  {
   "cell_type": "code",
   "execution_count": 18,
   "metadata": {},
   "outputs": [],
   "source": [
    "orders=mt5.orders_get(symbol=\"USDJPY\")\n",
    "for order in orders:\n",
    "    print(order)"
   ]
  },
  {
   "cell_type": "code",
   "execution_count": 32,
   "metadata": {},
   "outputs": [
    {
     "name": "stdout",
     "output_type": "stream",
     "text": [
      "Total positions= 2\n",
      "      ticket                time       time_msc  time_update  time_update_msc  type   magic  identifier  reason  volume  price_open   sl   tp  price_current  swap  profit  symbol           comment external_id\n",
      "0  273807416 2024-11-26 15:02:27  1732633347392   1732633347    1732633347392     0  234000   273807416       3     0.1     153.220  0.0  0.0        153.221   0.0    0.07  USDJPY  python script op            \n",
      "1  273807474 2024-11-26 15:02:34  1732633354114   1732633354    1732633354114     0  234000   273807474       3     0.1     153.204  0.0  0.0        153.221   0.0    1.11  USDJPY  python script op            \n"
     ]
    }
   ],
   "source": [
    "positions_total=mt5.positions_total()\n",
    "if positions_total>0:\n",
    "    print(\"Total positions=\",positions_total)\n",
    "    # get all positions on USDJPY\n",
    "    positions=mt5.positions_get(symbol=\"USDJPY\")\n",
    "    df=pd.DataFrame(list(positions),columns=positions[0]._asdict().keys())\n",
    "    df['time']=pd.to_datetime(df['time'],unit='s')\n",
    "    print(df)"
   ]
  },
  {
   "cell_type": "code",
   "execution_count": null,
   "metadata": {},
   "outputs": [
    {
     "name": "stdout",
     "output_type": "stream",
     "text": [
      "3. close position #273807474: sell USDJPY 0.1 lots at 153.169 with deviation=20 points\n",
      "            property                                              value\n",
      "0            retcode                                              10030\n",
      "1               deal                                                  0\n",
      "2              order                                                  0\n",
      "3             volume                                                0.0\n",
      "4              price                                                0.0\n",
      "5                bid                                                0.0\n",
      "6                ask                                                0.0\n",
      "7            comment                           Unsupported filling mode\n",
      "8         request_id                                                  0\n",
      "9   retcode_external                                                  0\n",
      "10           request  (1, 234000, 0, USDJPY, 0.1, 153.169, 0.0, 0.0,...\n",
      "4.1 order_send failed, retcode=10030\n"
     ]
    }
   ],
   "source": [
    "# create a close request\n",
    "position_id=result.order\n",
    "price=mt5.symbol_info_tick(symbol).bid\n",
    "deviation=20\n",
    "request={\n",
    "    \"action\": mt5.TRADE_ACTION_DEAL,\n",
    "    \"symbol\": symbol,\n",
    "    \"volume\": lot,\n",
    "    \"type\": mt5.ORDER_TYPE_SELL,\n",
    "    \"position\": position_id,\n",
    "    \"price\": price,\n",
    "    \"deviation\": deviation,\n",
    "    \"magic\": 234000,\n",
    "    \"comment\": \"python script close\",\n",
    "    \"type_time\": mt5.ORDER_TIME_GTC,\n",
    "    \"type_filling\": mt5.ORDER_FILLING_RETURN,\n",
    "}\n",
    "# send a trading request\n",
    "result=mt5.order_send(request)\n",
    "print(\"3. close position #{}: sell {} {} lots at {} with deviation={} points\".format(position_id,symbol,lot,price,deviation));\n",
    "df=pd.DataFrame(list(result._asdict().items()),columns=['property','value'])\n",
    "print(df)\n",
    "if result.retcode != mt5.TRADE_RETCODE_DONE:\n",
    "    print(\"4.1 order_send failed, retcode={}\".format(result.retcode))\n",
    "else:\n",
    "    print(\"4.2 position #{} closed, {}\".format(position_id,result))\n",
    "    # request the result as a dictionary and display it element by element\n",
    "    result_dict=result._asdict()\n",
    "    for field in result_dict.keys():\n",
    "        print(\"   {}={}\".format(field,result_dict[field]))\n",
    "        # if this is a trading request structure, display it element by element as well\n",
    "        if field==\"request\":\n",
    "            traderequest_dict=result_dict[field]._asdict()\n",
    "            for tradereq_filed in traderequest_dict:\n",
    "                print(\"       traderequest: {}={}\".format(tradereq_filed,traderequest_dict[tradereq_filed]))"
   ]
  },
  {
   "cell_type": "code",
   "execution_count": 35,
   "metadata": {},
   "outputs": [
    {
     "name": "stdout",
     "output_type": "stream",
     "text": [
      "      ticket                time       time_msc  time_update  time_update_msc  type   magic  identifier  reason  volume  price_open   sl   tp  price_current  swap  profit  symbol           comment external_id\n",
      "0  273807416 2024-11-26 15:02:27  1732633347392   1732633347    1732633347392     0  234000   273807416       3     0.1     153.220  0.0  0.0        153.062   0.0  -10.32  USDJPY  python script op            \n",
      "1  273807474 2024-11-26 15:02:34  1732633354114   1732633354    1732633354114     0  234000   273807474       3     0.1     153.204  0.0  0.0        153.062   0.0   -9.28  USDJPY  python script op            \n",
      "2  273808661 2024-11-26 15:03:30  1732633410866   1732633410    1732633410866     1  234000   273808661       3     0.1     153.108  0.0  0.0        153.087   0.0    1.37  USDJPY  python script cl            \n"
     ]
    }
   ],
   "source": [
    "positions = mt5.positions_get()\n",
    "df = pd.DataFrame(list(positions), columns=positions[0]._asdict().keys())\n",
    "df['time'] = pd.to_datetime(df['time'], unit='s')\n",
    "print(df)"
   ]
  },
  {
   "cell_type": "code",
   "execution_count": 37,
   "metadata": {},
   "outputs": [
    {
     "name": "stdout",
     "output_type": "stream",
     "text": [
      "5. close position #273807416: sell USDJPY 0.1 lots at 153.146 with deviation=20 points\n",
      "            property                                              value\n",
      "0            retcode                                              10009\n",
      "1               deal                                          274341240\n",
      "2              order                                          273813454\n",
      "3             volume                                                0.1\n",
      "4              price                                            153.146\n",
      "5                bid                                            153.146\n",
      "6                ask                                            153.175\n",
      "7            comment                                   Request executed\n",
      "8         request_id                                         1287851500\n",
      "9   retcode_external                                                  0\n",
      "10           request  (1, 234000, 0, USDJPY, 0.1, 153.146, 0.0, 0.0,...\n",
      "6.2 position #273807416 closed, OrderSendResult(retcode=10009, deal=274341240, order=273813454, volume=0.1, price=153.146, bid=153.146, ask=153.175, comment='Request executed', request_id=1287851500, retcode_external=0, request=TradeRequest(action=1, magic=234000, order=0, symbol='USDJPY', volume=0.1, price=153.146, stoplimit=0.0, sl=0.0, tp=0.0, deviation=20, type=1, type_filling=1, type_time=0, expiration=0, comment='python script close', position=273807416, position_by=0))\n",
      "   retcode=10009\n",
      "   deal=274341240\n",
      "   order=273813454\n",
      "   volume=0.1\n",
      "   price=153.146\n",
      "   bid=153.146\n",
      "   ask=153.175\n",
      "   comment=Request executed\n",
      "   request_id=1287851500\n",
      "   retcode_external=0\n",
      "   request=TradeRequest(action=1, magic=234000, order=0, symbol='USDJPY', volume=0.1, price=153.146, stoplimit=0.0, sl=0.0, tp=0.0, deviation=20, type=1, type_filling=1, type_time=0, expiration=0, comment='python script close', position=273807416, position_by=0)\n",
      "       traderequest: action=1\n",
      "       traderequest: magic=234000\n",
      "       traderequest: order=0\n",
      "       traderequest: symbol=USDJPY\n",
      "       traderequest: volume=0.1\n",
      "       traderequest: price=153.146\n",
      "       traderequest: stoplimit=0.0\n",
      "       traderequest: sl=0.0\n",
      "       traderequest: tp=0.0\n",
      "       traderequest: deviation=20\n",
      "       traderequest: type=1\n",
      "       traderequest: type_filling=1\n",
      "       traderequest: type_time=0\n",
      "       traderequest: expiration=0\n",
      "       traderequest: comment=python script close\n",
      "       traderequest: position=273807416\n",
      "       traderequest: position_by=0\n"
     ]
    }
   ],
   "source": [
    "# close 1 position by position ticket\n",
    "\n",
    "if len(positions)>0:\n",
    "    position_id=positions[0].ticket\n",
    "    symbol=positions[0].symbol\n",
    "    price=mt5.symbol_info_tick(symbol).bid\n",
    "    deviation=20\n",
    "    request={\n",
    "        \"action\": mt5.TRADE_ACTION_DEAL,\n",
    "        \"symbol\": symbol,\n",
    "        \"volume\": lot,\n",
    "        \"type\": mt5.ORDER_TYPE_SELL,\n",
    "        \"position\": position_id,\n",
    "        \"price\": price,\n",
    "        \"deviation\": deviation,\n",
    "        \"magic\": 234000,\n",
    "        \"comment\": \"python script close\",\n",
    "        \"type_time\": mt5.ORDER_TIME_GTC,\n",
    "        \"type_filling\": mt5.ORDER_FILLING_IOC,\n",
    "    }\n",
    "    # send a trading request\n",
    "    result=mt5.order_send(request)\n",
    "    print(\"5. close position #{}: sell {} {} lots at {} with deviation={} points\".format(position_id,symbol,lot,price,deviation));\n",
    "    df=pd.DataFrame(list(result._asdict().items()),columns=['property','value'])\n",
    "    print(df)\n",
    "    if result.retcode != mt5.TRADE_RETCODE_DONE:\n",
    "        print(\"6.1 order_send failed, retcode={}\".format(result.retcode))\n",
    "    else:\n",
    "        print(\"6.2 position #{} closed, {}\".format(position_id,result))\n",
    "        # request the result as a dictionary and display it element by element\n",
    "        result_dict=result._asdict()\n",
    "        for field in result_dict.keys():\n",
    "            print(\"   {}={}\".format(field,result_dict[field]))\n",
    "            # if this is a trading request structure, display it element by element as well\n",
    "            if field==\"request\":\n",
    "                traderequest_dict=result_dict[field]._asdict()\n",
    "                for tradereq_filed in traderequest_dict:\n",
    "                    print(\"       traderequest: {}={}\".format(tradereq_filed,traderequest_dict[tradereq_filed]))"
   ]
  },
  {
   "cell_type": "code",
   "execution_count": 50,
   "metadata": {},
   "outputs": [
    {
     "name": "stdout",
     "output_type": "stream",
     "text": [
      "Total positions= 2\n",
      "      ticket                time       time_msc  time_update  time_update_msc  type   magic  identifier  reason  volume  price_open   sl   tp  price_current  swap  profit  symbol           comment external_id\n",
      "0  273807474 2024-11-26 15:02:34  1732633354114   1732633354    1732633354114     0  234000   273807474       3     0.1     153.204  0.0  0.0        153.275   0.0    4.63  USDJPY  python script op            \n",
      "1  273808661 2024-11-26 15:03:30  1732633410866   1732633410    1732633410866     1  234000   273808661       3     0.1     153.108  0.0  0.0        153.302   0.0  -12.65  USDJPY  python script cl            \n"
     ]
    }
   ],
   "source": [
    "positions_total=mt5.positions_total()\n",
    "if positions_total>0:\n",
    "    print(\"Total positions=\",positions_total)\n",
    "    # get all positions on USDJPY\n",
    "    positions=mt5.positions_get(symbol=\"USDJPY\")\n",
    "    df=pd.DataFrame(list(positions),columns=positions[0]._asdict().keys())\n",
    "    df['time']=pd.to_datetime(df['time'],unit='s')\n",
    "    print(df)"
   ]
  },
  {
   "cell_type": "code",
   "execution_count": 75,
   "metadata": {},
   "outputs": [
    {
     "name": "stdout",
     "output_type": "stream",
     "text": [
      "2024-06-01 00:00:00 2024-11-26 20:50:57.814404\n",
      "1717174800 1732629057\n",
      "       ticket          time_setup time_setup_msc           time_done       time_done_msc  time_expiration  type  type_time  type_filling  state   magic  position_id  position_by_id  reason  volume_initial  volume_current  price_open       sl       tp  price_current  price_stoplimit  symbol           comment external_id\n",
      "0   234954404 2024-07-29 14:49:27     1970-01-01 2024-07-29 14:49:27 2024-07-29 14:49:27                0     0          0             1      4  234000    234954404               0       3            0.10             0.0       0.000  153.574  153.974        153.774              0.0  USDJPY  python script op            \n",
      "1   234954505 2024-07-29 14:49:44     1970-01-01 2024-07-29 14:49:44 2024-07-29 14:49:44                0     0          0             1      4  234000    234954505               0       3            0.10             0.0       0.000  153.572  153.972        153.773              0.0  USDJPY  python script op            \n",
      "2   234970173 2024-07-29 15:04:40     1970-01-01 2024-07-29 15:04:40 2024-07-29 15:04:40                0     0          0             1      4  234000    234970173               0       3            0.10             0.0       0.000  153.627  154.027        153.827              0.0  USDJPY  python script op            \n",
      "3   234972674 2024-07-29 15:06:46     1970-01-01 2024-07-29 15:06:46 2024-07-29 15:06:46                0     0          0             1      4  234000    234972674               0       3            0.10             0.0       0.000  153.582  153.982        153.782              0.0  USDJPY  python script op            \n",
      "4   234973577 2024-07-29 15:07:54     1970-01-01 2024-07-29 15:07:54 2024-07-29 15:07:54                0     1          0             1      4       0    234970173               0       0            0.10             0.0       0.000    0.000    0.000        153.834              0.0  USDJPY                              \n",
      "5   234976234 2024-07-29 15:12:53     1970-01-01 2024-07-29 15:12:53 2024-07-29 15:12:53                0     1          0             1      4       0    234954505               0       0            0.10             0.0       0.000    0.000    0.000        153.927              0.0  USDJPY                              \n",
      "6   234977434 2024-07-29 15:14:40     1970-01-01 2024-07-29 15:14:40 2024-07-29 15:14:40                0     1          0             1      4  234000    234954404               0       5            0.10             0.0     153.974    0.000    0.000        153.974              0.0  USDJPY      [tp 153.974]            \n",
      "7   234977453 2024-07-29 15:14:42     1970-01-01 2024-07-29 15:14:42 2024-07-29 15:14:42                0     1          0             1      4  234000    234972674               0       5            0.10             0.0     153.982    0.000    0.000        153.982              0.0  USDJPY      [tp 153.982]            \n",
      "8   234979319 2024-07-29 15:17:47     1970-01-01 2024-07-29 15:17:47 2024-07-29 15:17:47                0     0          0             1      4  234000    234979319               0       3            0.10             0.0       0.000  153.832  154.232        154.032              0.0  USDJPY  python script op            \n",
      "9   234991005 2024-07-29 15:32:42     1970-01-01 2024-07-29 15:32:42 2024-07-29 15:32:42                0     1          0             1      4       0    234991005               0       0            0.01             0.0       0.000    0.000    0.000        153.960              0.0  USDJPY                              \n",
      "10  235009371 2024-07-29 15:57:12     1970-01-01 2024-07-29 15:57:12 2024-07-29 15:57:12                0     1          0             1      4  234000    234979319               0       4            0.10             0.0     153.832    0.000    0.000        153.832              0.0  USDJPY      [sl 153.832]            \n",
      "11  235138241 2024-07-29 18:06:33     1970-01-01 2024-07-29 18:06:33 2024-07-29 18:06:33                0     0          0             1      4       0    235138241               0       0            0.01             0.0       0.000    0.000    0.000        154.020              0.0  USDJPY                              \n",
      "12  235156376 2024-07-29 18:19:04     1970-01-01 2024-07-29 18:19:04 2024-07-29 18:19:04                0     1          0             1      4  234000    235138241               0       3            0.01             0.0       0.000    0.000    0.000        153.904              0.0  USDJPY  python script cl            \n",
      "13  235172427 2024-07-29 18:36:44     1970-01-01 2024-07-29 18:36:44 2024-07-29 18:36:44                0     0          0             1      4       0    234991005               0       0            0.01             0.0       0.000    0.000    0.000        153.944              0.0  USDJPY                              \n"
     ]
    }
   ],
   "source": [
    "# get the number of orders in history\n",
    "pd.set_option('display.max_columns', 500) # number of columns to be displayed\n",
    "pd.set_option('display.width', 1500)      # max table width to display\n",
    "\n",
    "from_date=datetime(2024,6,1) # year, month, day\n",
    "to_date=datetime.now()\n",
    "print(from_date, to_date)\n",
    "\n",
    "from_timestamp = int(from_date.timestamp())\n",
    "to_timestamp = int(to_date.timestamp())\n",
    "print(from_timestamp, to_timestamp)\n",
    "\n",
    "history_orders=mt5.history_orders_get(from_timestamp, to_timestamp)\n",
    "\n",
    "if history_orders is None:\n",
    "    print(\"No history orders\")\n",
    "if len(history_orders) > 0:\n",
    "    data = []\n",
    "    for order in history_orders:\n",
    "        data.append(order._asdict())\n",
    "    df = pd.DataFrame(data)\n",
    "    df['time_done'] = pd.to_datetime(df['time_done'], unit='s')\n",
    "    df['time_done_msc'] = pd.to_datetime(df['time_done'], unit='s')\n",
    "    df['time_setup'] = pd.to_datetime(df['time_setup'], unit='s')\n",
    "    df['time_setup_msc'] = pd.to_datetime(df['time_expiration'], unit='s')\n",
    "    print(df)\n",
    "\n"
   ]
  },
  {
   "cell_type": "code",
   "execution_count": 86,
   "metadata": {},
   "outputs": [
    {
     "name": "stdout",
     "output_type": "stream",
     "text": [
      "ตำแหน่ง 273808661 ปิดสำเร็จ\n"
     ]
    }
   ],
   "source": [
    "# close all positions\n",
    "positions = mt5.positions_get()\n",
    "\n",
    "if positions is None or len(positions) == 0:\n",
    "    print(\"ไม่มีคำสั่งที่เปิดอยู่\")\n",
    "else:\n",
    "    for position in positions:\n",
    "        ticket = position.ticket  # หมายเลขคำสั่งที่เปิด\n",
    "        symbol = position.symbol  # ชื่อสัญลักษณ์ (เช่น EURUSD, USDJPY)\n",
    "        volume = position.volume  # ปริมาณของตำแหน่ง\n",
    "        price = mt5.symbol_info_tick(symbol).ask  # ใช้ราคา ask ปัจจุบันในการปิดตำแหน่ง\n",
    "\n",
    "        # สร้างคำขอการปิดคำสั่ง\n",
    "        close_request = {\n",
    "            \"action\": mt5.TRADE_ACTION_DEAL,\n",
    "            \"symbol\": symbol,\n",
    "            \"volume\": volume,\n",
    "            \"position\": ticket,\n",
    "            \"price\": price,\n",
    "            \"deviation\": 20,  # กำหนดระดับความเบี่ยงเบนของราคา\n",
    "            \"magic\": 234000,  # รหัส EA (หากใช้)\n",
    "            \"comment\": \"ปิดตำแหน่งทั้งหมด\",\n",
    "            \"type_time\": mt5.ORDER_TIME_GTC,\n",
    "            \"type_filling\": mt5.ORDER_FILLING_IOC,\n",
    "        }\n",
    "\n",
    "        # ส่งคำขอการปิดตำแหน่ง\n",
    "        result = mt5.order_send(close_request)\n",
    "\n",
    "        if result.retcode != mt5.TRADE_RETCODE_DONE:\n",
    "            print(f\"ไม่สามารถปิดตำแหน่ง {ticket}: {result.comment}, retcode={result.retcode}\")\n",
    "        else:\n",
    "            print(f\"ตำแหน่ง {ticket} ปิดสำเร็จ\")"
   ]
  }
 ],
 "metadata": {
  "kernelspec": {
   "display_name": "3.10.11",
   "language": "python",
   "name": "python3"
  },
  "language_info": {
   "codemirror_mode": {
    "name": "ipython",
    "version": 3
   },
   "file_extension": ".py",
   "mimetype": "text/x-python",
   "name": "python",
   "nbconvert_exporter": "python",
   "pygments_lexer": "ipython3",
   "version": "3.10.11"
  }
 },
 "nbformat": 4,
 "nbformat_minor": 2
}
