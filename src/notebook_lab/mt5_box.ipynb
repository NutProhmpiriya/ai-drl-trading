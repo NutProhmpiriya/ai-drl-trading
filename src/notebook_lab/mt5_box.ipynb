{
 "cells": [
  {
   "cell_type": "code",
   "execution_count": 6,
   "metadata": {},
   "outputs": [],
   "source": [
    "import pandas as pd\n",
    "import MetaTrader5 as mt5\n",
    "import matplotlib.pyplot as plt\n",
    "import json"
   ]
  },
  {
   "cell_type": "code",
   "execution_count": 15,
   "metadata": {},
   "outputs": [
    {
     "name": "stdout",
     "output_type": "stream",
     "text": [
      "MetaTrader5 version: (500, 4620, '11 Oct 2024')\n",
      "                 property                                              value\n",
      "0       community_account                                              False\n",
      "1    community_connection                                              False\n",
      "2               connected                                               True\n",
      "3            dlls_allowed                                              False\n",
      "4           trade_allowed                                               True\n",
      "5       tradeapi_disabled                                              False\n",
      "6           email_enabled                                              False\n",
      "7             ftp_enabled                                              False\n",
      "8   notifications_enabled                                              False\n",
      "9                    mqid                                               True\n",
      "10                  build                                               4620\n",
      "11                maxbars                                             100000\n",
      "12               codepage                                                  0\n",
      "13              ping_last                                             195388\n",
      "14      community_balance                                                0.0\n",
      "15         retransmission                                           5.037114\n",
      "16                company                          MetaQuotes Software Corp.\n",
      "17                   name                                       MetaTrader 5\n",
      "18               language                                            English\n",
      "19                   path                      C:\\Program Files\\MetaTrader 5\n",
      "20              data_path  C:\\Users\\windowBook\\AppData\\Roaming\\MetaQuotes...\n",
      "21        commondata_path  C:\\Users\\windowBook\\AppData\\Roaming\\MetaQuotes...\n"
     ]
    }
   ],
   "source": [
    "if not mt5.initialize():\n",
    "    print(\"initialize() failed\")\n",
    "    mt5.shutdown()\n",
    "\n",
    "tierminal_info = mt5.terminal_info()._asdict()\n",
    "version= mt5.version()\n",
    "print(\"MetaTrader5 version:\", version)\n",
    "df=pd.DataFrame(list(tierminal_info.items()),columns=['property','value'])\n",
    "print(df)\n"
   ]
  },
  {
   "cell_type": "code",
   "execution_count": 16,
   "metadata": {},
   "outputs": [
    {
     "name": "stdout",
     "output_type": "stream",
     "text": [
      "              property              value\n",
      "0                login          312241304\n",
      "1           trade_mode                  0\n",
      "2             leverage               1000\n",
      "3         limit_orders                300\n",
      "4       margin_so_mode                  0\n",
      "5        trade_allowed               True\n",
      "6         trade_expert               True\n",
      "7          margin_mode                  2\n",
      "8      currency_digits                  2\n",
      "9           fifo_close              False\n",
      "10             balance           10022.72\n",
      "11              credit                0.0\n",
      "12              profit                0.0\n",
      "13              equity           10022.72\n",
      "14              margin                0.0\n",
      "15         margin_free           10022.72\n",
      "16        margin_level                0.0\n",
      "17      margin_so_call               50.0\n",
      "18        margin_so_so               20.0\n",
      "19      margin_initial                0.0\n",
      "20  margin_maintenance                0.0\n",
      "21              assets                0.0\n",
      "22         liabilities                0.0\n",
      "23  commission_blocked                0.0\n",
      "24                name       Demo Account\n",
      "25              server     XMGlobal-MT5 7\n",
      "26            currency                USD\n",
      "27             company  XM Global Limited\n"
     ]
    }
   ],
   "source": [
    "account_info = mt5.account_info()._asdict()\n",
    "df_account_info = pd.DataFrame(list(account_info.items()), columns=['property', 'value'])\n",
    "print(df_account_info)"
   ]
  },
  {
   "cell_type": "code",
   "execution_count": 17,
   "metadata": {},
   "outputs": [
    {
     "name": "stdout",
     "output_type": "stream",
     "text": [
      "Total symbols: 1505\n"
     ]
    }
   ],
   "source": [
    "symbols=mt5.symbols_total()\n",
    "print(\"Total symbols:\",symbols)"
   ]
  },
  {
   "cell_type": "code",
   "execution_count": 19,
   "metadata": {},
   "outputs": [
    {
     "name": "stdout",
     "output_type": "stream",
     "text": [
      "1. EURUSD\n",
      "2. GBPUSD\n",
      "3. USDCHF\n",
      "4. USDJPY\n",
      "5. USDCAD\n",
      "\n"
     ]
    }
   ],
   "source": [
    "symbols=mt5.symbols_get()\n",
    "\n",
    "count=0\n",
    "for s in symbols:\n",
    "    count+=1\n",
    "    print(\"{}. {}\".format(count,s.name))\n",
    "    if count==5: break\n",
    "print()"
   ]
  },
  {
   "cell_type": "code",
   "execution_count": 20,
   "metadata": {},
   "outputs": [
    {
     "name": "stdout",
     "output_type": "stream",
     "text": [
      "len(*RU*):  2\n",
      "EURUSD\n",
      "NEARUSD\n",
      "\n"
     ]
    }
   ],
   "source": [
    "# get symbols containing RU in their names\n",
    "ru_symbols=mt5.symbols_get(\"*RU*\")\n",
    "print('len(*RU*): ', len(ru_symbols))\n",
    "for s in ru_symbols:\n",
    "    print(s.name)\n",
    "print()\n",
    " "
   ]
  },
  {
   "cell_type": "code",
   "execution_count": 46,
   "metadata": {},
   "outputs": [
    {
     "name": "stdout",
     "output_type": "stream",
     "text": [
      "len(*,!*USD*,!*EUR*,!*JPY*,!*GBP*): 1396\n"
     ]
    }
   ],
   "source": [
    "# get symbols whose names do not contain USD, EUR, JPY and GBP\n",
    "group_symbols=mt5.symbols_get(group=\"*,!*USD*,!*EUR*,!*JPY*,!*GBP*\")\n",
    "print('len(*,!*USD*,!*EUR*,!*JPY*,!*GBP*):', len(group_symbols))\n",
    "# for s in group_symbols:\n",
    "#     print(s.name,\":\",s)"
   ]
  },
  {
   "cell_type": "code",
   "execution_count": 25,
   "metadata": {},
   "outputs": [
    {
     "name": "stdout",
     "output_type": "stream",
     "text": [
      "         property                         value\n",
      "0          custom                         False\n",
      "1      chart_mode                             0\n",
      "2          select                         False\n",
      "3         visible                         False\n",
      "4   session_deals                             0\n",
      "..            ...                           ...\n",
      "91        formula                              \n",
      "92           isin                              \n",
      "93           name                        EURJPY\n",
      "94           page                              \n",
      "95           path  Forex\\Standard\\Majors\\EURJPY\n",
      "\n",
      "[96 rows x 2 columns]\n"
     ]
    }
   ],
   "source": [
    "symbol_info=mt5.symbol_info(\"EURJPY\")\n",
    "if symbol_info!=None:\n",
    "    # display the terminal data 'as is'    \n",
    "    df=pd.DataFrame(list(symbol_info._asdict().items()),columns=['property','value'])\n",
    "    print(df)"
   ]
  },
  {
   "cell_type": "code",
   "execution_count": 34,
   "metadata": {},
   "outputs": [
    {
     "name": "stdout",
     "output_type": "stream",
     "text": [
      "GBPUSD selected= True\n"
     ]
    }
   ],
   "source": [
    "selected=mt5.symbol_select(\"GBPUSD\",True)\n",
    "print(\"GBPUSD selected=\",selected)"
   ]
  },
  {
   "cell_type": "code",
   "execution_count": 33,
   "metadata": {},
   "outputs": [
    {
     "name": "stdout",
     "output_type": "stream",
     "text": [
      "                 time      bid      ask  last  volume       time_msc  flags  \\\n",
      "0 2024-11-26 10:21:19  1.25494  1.25515   0.0       0  1732616479534   1124   \n",
      "\n",
      "   volume_real  \n",
      "0          0.0  \n"
     ]
    }
   ],
   "source": [
    "lasttick=mt5.symbol_info_tick(\"GBPUSD\")\n",
    "df=pd.DataFrame(lasttick._asdict(),index=[0])\n",
    "df['time']=pd.to_datetime(df['time'],unit='s')\n",
    "print(df)\n"
   ]
  },
  {
   "cell_type": "code",
   "execution_count": 45,
   "metadata": {},
   "outputs": [
    {
     "name": "stdout",
     "output_type": "stream",
     "text": [
      "(1578484800, 1.11377, 1.11378, 1.11104, 1.11192, 6699, 16, 0)\n",
      "(1578499200, 1.11192, 1.11301, 1.11081, 1.11172, 7627, 16, 0)\n",
      "(1578513600, 1.1117, 1.1117, 1.11009, 1.11042, 3412, 16, 0)\n",
      "(1578528000, 1.11043, 1.11186, 1.11022, 1.11166, 2511, 16, 0)\n",
      "(1578542400, 1.11166, 1.11182, 1.11119, 1.11175, 1770, 16, 0)\n",
      "(1578556800, 1.11174, 1.11196, 1.10976, 1.10986, 5889, 16, 0)\n",
      "(1578571200, 1.10986, 1.11166, 1.10958, 1.11142, 5392, 16, 0)\n",
      "(1578585600, 1.1114, 1.1114, 1.10918, 1.11039, 5525, 16, 0)\n",
      "(1578600000, 1.11039, 1.1109, 1.11026, 1.11037, 2657, 16, 0)\n",
      "(1578614400, 1.11035, 1.11085, 1.10993, 1.11034, 1787, 16, 0)\n"
     ]
    }
   ],
   "source": [
    "import pytz\n",
    "from datetime import datetime\n",
    "\n",
    "pd.set_option('display.max_columns', 20) # number of columns to be displayed\n",
    "pd.set_option('display.width', 1500)      # max table width to display\n",
    "\n",
    "timezone = pytz.timezone(\"Etc/UTC\")\n",
    "utc_from = datetime(2020, 1, 10, tzinfo=timezone)\n",
    "rates = mt5.copy_rates_from(\"EURUSD\", mt5.TIMEFRAME_H4, utc_from, 10)\n",
    "\n",
    "for rate in rates:\n",
    "    print(rate)"
   ]
  },
  {
   "cell_type": "code",
   "execution_count": 44,
   "metadata": {},
   "outputs": [
    {
     "name": "stdout",
     "output_type": "stream",
     "text": [
      "                 time     open     high      low    close  tick_volume  spread  real_volume\n",
      "0 2020-01-08 12:00:00  1.11377  1.11378  1.11104  1.11192         6699      16            0\n",
      "1 2020-01-08 16:00:00  1.11192  1.11301  1.11081  1.11172         7627      16            0\n",
      "2 2020-01-08 20:00:00  1.11170  1.11170  1.11009  1.11042         3412      16            0\n",
      "3 2020-01-09 00:00:00  1.11043  1.11186  1.11022  1.11166         2511      16            0\n",
      "4 2020-01-09 04:00:00  1.11166  1.11182  1.11119  1.11175         1770      16            0\n",
      "5 2020-01-09 08:00:00  1.11174  1.11196  1.10976  1.10986         5889      16            0\n",
      "6 2020-01-09 12:00:00  1.10986  1.11166  1.10958  1.11142         5392      16            0\n",
      "7 2020-01-09 16:00:00  1.11140  1.11140  1.10918  1.11039         5525      16            0\n",
      "8 2020-01-09 20:00:00  1.11039  1.11090  1.11026  1.11037         2657      16            0\n",
      "9 2020-01-10 00:00:00  1.11035  1.11085  1.10993  1.11034         1787      16            0\n"
     ]
    }
   ],
   "source": [
    "rates_frame = pd.DataFrame(rates)\n",
    "rates_frame['time']=pd.to_datetime(rates_frame['time'], unit='s')\n",
    "print(rates_frame)"
   ]
  },
  {
   "cell_type": "markdown",
   "metadata": {},
   "source": [
    "ต่อไปนี้คือลักษณะความแตกต่างระหว่างฟังก์ชันเหล่านี้:\n",
    "\n",
    "### 1. **`copy_rates_from`**\n",
    "   - **วัตถุประสงค์**: ฟังก์ชันนี้ใช้ดึงข้อมูลราคาของสัญลักษณ์ที่ระบุ โดยใช้เวลาที่ระบุ (ในกรณีนี้เริ่มต้นจากเวลา `from_time`) และจำนวนแท่งข้อมูล (bars) ที่ต้องการ\n",
    "   - **การใช้งาน**: ฟังก์ชันนี้จะดึงข้อมูล **price bars** (หรือ OHLC - Open, High, Low, Close) จากช่วงเวลาที่ระบุ\n",
    "   - **ตัวอย่างการใช้งาน**:\n",
    "     ```python\n",
    "     rates = mt5.copy_rates_from(symbol, mt5.TIMEFRAME_M1, from_time, 100)\n",
    "     ```\n",
    "   - **พารามิเตอร์**:\n",
    "     - `symbol`: สัญลักษณ์ (เช่น EURUSD)\n",
    "     - `timeframe`: ช่วงเวลา (เช่น M1, H1)\n",
    "     - `from_time`: เวลาที่เริ่มต้น\n",
    "     - `count`: จำนวนข้อมูลที่ต้องการดึง\n",
    "\n",
    "### 2. **`copy_rates_from_pos`**\n",
    "   - **วัตถุประสงค์**: ฟังก์ชันนี้คล้ายกับ `copy_rates_from` แต่จะแตกต่างที่ **จุดเริ่มต้นเป็นตำแหน่ง (position)** แทนการใช้เวลา\n",
    "   - **การใช้งาน**: ใช้เมื่อคุณต้องการดึงข้อมูลจากตำแหน่งเริ่มต้นใน **history** แทนที่จะใช้เวลา\n",
    "   - **ตัวอย่างการใช้งาน**:\n",
    "     ```python\n",
    "     rates = mt5.copy_rates_from_pos(symbol, mt5.TIMEFRAME_M1, position, 100)\n",
    "     ```\n",
    "   - **พารามิเตอร์**:\n",
    "     - `symbol`: สัญลักษณ์\n",
    "     - `timeframe`: ช่วงเวลา\n",
    "     - `position`: ตำแหน่งเริ่มต้น (เช่น 0 คือข้อมูลล่าสุด)\n",
    "     - `count`: จำนวนแท่งข้อมูล\n",
    "\n",
    "### 3. **`copy_rates_range`**\n",
    "   - **วัตถุประสงค์**: ฟังก์ชันนี้ใช้ดึงข้อมูล **ราคา** ในช่วงเวลาที่กำหนด\n",
    "   - **การใช้งาน**: ใช้เมื่อคุณต้องการดึงข้อมูล **price bars** ตั้งแต่ช่วงเวลาหนึ่งไปจนถึงช่วงเวลาหนึ่ง\n",
    "   - **ตัวอย่างการใช้งาน**:\n",
    "     ```python\n",
    "     rates = mt5.copy_rates_range(symbol, mt5.TIMEFRAME_M1, start_time, end_time)\n",
    "     ```\n",
    "   - **พารามิเตอร์**:\n",
    "     - `symbol`: สัญลักษณ์\n",
    "     - `timeframe`: ช่วงเวลา\n",
    "     - `start_time`: เวลาที่เริ่มต้น\n",
    "     - `end_time`: เวลาที่สิ้นสุด\n",
    "\n",
    "### 4. **`copy_ticks_from`**\n",
    "   - **วัตถุประสงค์**: ฟังก์ชันนี้ใช้ดึงข้อมูล **ticks** (ราคาที่เปลี่ยนแปลง) เริ่มจากเวลาที่กำหนด\n",
    "   - **การใช้งาน**: ใช้ในการดึงข้อมูลราคาที่เปลี่ยนแปลงในลักษณะ **tick** (ไม่ใช่ข้อมูลแบบ bar) ที่มีข้อมูลการเปลี่ยนแปลงราคาในช่วงเวลาหนึ่ง\n",
    "   - **ตัวอย่างการใช้งาน**:\n",
    "     ```python\n",
    "     ticks = mt5.copy_ticks_from(symbol, from_time, 100)\n",
    "     ```\n",
    "   - **พารามิเตอร์**:\n",
    "     - `symbol`: สัญลักษณ์\n",
    "     - `from_time`: เวลาที่เริ่มต้น\n",
    "     - `count`: จำนวนข้อมูลที่ต้องการดึง\n",
    "\n",
    "### 5. **`copy_ticks_range`**\n",
    "   - **วัตถุประสงค์**: ฟังก์ชันนี้ใช้ดึงข้อมูล **ticks** ในช่วงเวลาที่กำหนด\n",
    "   - **การใช้งาน**: ใช้เมื่อคุณต้องการดึงข้อมูล **tick** ในช่วงเวลาที่กำหนดระหว่าง `start_time` ถึง `end_time`\n",
    "   - **ตัวอย่างการใช้งาน**:\n",
    "     ```python\n",
    "     ticks = mt5.copy_ticks_range(symbol, start_time, end_time, mt5.COPY_TICKS_ALL)\n",
    "     ```\n",
    "   - **พารามิเตอร์**:\n",
    "     - `symbol`: สัญลักษณ์\n",
    "     - `start_time`: เวลาที่เริ่มต้น\n",
    "     - `end_time`: เวลาที่สิ้นสุด\n",
    "     - `ticks`: สามารถเลือกประเภทของ ticks ที่ต้องการดึง เช่น **`COPY_TICKS_ALL`** หรือ **`COPY_TICKS_INFO`**\n",
    "\n",
    "---\n",
    "\n",
    "### สรุปความแตกต่าง:\n",
    "\n",
    "- **`copy_rates_from`**: ดึงข้อมูลจากเวลาเริ่มต้นและจำนวนแท่งข้อมูลที่ต้องการ\n",
    "- **`copy_rates_from_pos`**: ดึงข้อมูลจากตำแหน่งเริ่มต้นของข้อมูลที่มี\n",
    "- **`copy_rates_range`**: ดึงข้อมูลจากช่วงเวลาที่กำหนด\n",
    "- **`copy_ticks_from`**: ดึงข้อมูล **tick** จากเวลาเริ่มต้น\n",
    "- **`copy_ticks_range`**: ดึงข้อมูล **tick** จากช่วงเวลาที่กำหนด\n",
    "\n",
    "การเลือกใช้ฟังก์ชันที่เหมาะสมขึ้นอยู่กับประเภทข้อมูลที่คุณต้องการ (ราคาแบบ bar หรือ tick) และว่าคุณต้องการดึงข้อมูลจากเวลา, ตำแหน่ง, หรือช่วงเวลาใด\n",
    "\n",
    "หวังว่าคำอธิบายนี้จะช่วยให้คุณเข้าใจความแตกต่างของฟังก์ชันเหล่านี้ครับ! หากยังมีคำถามเพิ่มเติม สามารถถามได้ครับ!"
   ]
  },
  {
   "cell_type": "code",
   "execution_count": null,
   "metadata": {},
   "outputs": [],
   "source": []
  }
 ],
 "metadata": {
  "kernelspec": {
   "display_name": "3.10.11",
   "language": "python",
   "name": "python3"
  },
  "language_info": {
   "codemirror_mode": {
    "name": "ipython",
    "version": 3
   },
   "file_extension": ".py",
   "mimetype": "text/x-python",
   "name": "python",
   "nbconvert_exporter": "python",
   "pygments_lexer": "ipython3",
   "version": "3.10.11"
  }
 },
 "nbformat": 4,
 "nbformat_minor": 2
}
